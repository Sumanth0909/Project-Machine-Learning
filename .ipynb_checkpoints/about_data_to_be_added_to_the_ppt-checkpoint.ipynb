{
 "cells": [
  {
   "cell_type": "code",
   "execution_count": 5,
   "id": "96713aab",
   "metadata": {},
   "outputs": [
    {
     "name": "stdout",
     "output_type": "stream",
     "text": [
      "Shape of DataFrame: (435742, 13)\n",
      "\n",
      "Features or Characteristics of DataFrame:\n",
      "<class 'pandas.core.frame.DataFrame'>\n",
      "RangeIndex: 435742 entries, 0 to 435741\n",
      "Data columns (total 13 columns):\n",
      " #   Column                       Non-Null Count   Dtype         \n",
      "---  ------                       --------------   -----         \n",
      " 0   stn_code                     291665 non-null  object        \n",
      " 1   sampling_date                435739 non-null  object        \n",
      " 2   state                        435742 non-null  object        \n",
      " 3   location                     435739 non-null  object        \n",
      " 4   agency                       286261 non-null  object        \n",
      " 5   type                         430349 non-null  object        \n",
      " 6   so2                          401096 non-null  float64       \n",
      " 7   no2                          419509 non-null  float64       \n",
      " 8   rspm                         395520 non-null  float64       \n",
      " 9   spm                          198355 non-null  float64       \n",
      " 10  location_monitoring_station  408251 non-null  object        \n",
      " 11  pm2_5                        9314 non-null    float64       \n",
      " 12  date                         435735 non-null  datetime64[ns]\n",
      "dtypes: datetime64[ns](1), float64(5), object(7)\n",
      "memory usage: 43.2+ MB\n",
      "None\n",
      "\n",
      "First 5 entries of DataFrame:\n",
      "  stn_code       sampling_date           state   location agency  \\\n",
      "0      150  February - M021990  Andhra Pradesh  Hyderabad    NaN   \n",
      "1      151  February - M021990  Andhra Pradesh  Hyderabad    NaN   \n",
      "2      152  February - M021990  Andhra Pradesh  Hyderabad    NaN   \n",
      "3      150     March - M031990  Andhra Pradesh  Hyderabad    NaN   \n",
      "4      151     March - M031990  Andhra Pradesh  Hyderabad    NaN   \n",
      "\n",
      "                                 type  so2   no2  rspm  spm  \\\n",
      "0  Residential, Rural and other Areas  4.8  17.4   NaN  NaN   \n",
      "1                     Industrial Area  3.1   7.0   NaN  NaN   \n",
      "2  Residential, Rural and other Areas  6.2  28.5   NaN  NaN   \n",
      "3  Residential, Rural and other Areas  6.3  14.7   NaN  NaN   \n",
      "4                     Industrial Area  4.7   7.5   NaN  NaN   \n",
      "\n",
      "  location_monitoring_station  pm2_5       date  \n",
      "0                         NaN    NaN 1990-02-01  \n",
      "1                         NaN    NaN 1990-02-01  \n",
      "2                         NaN    NaN 1990-02-01  \n",
      "3                         NaN    NaN 1990-03-01  \n",
      "4                         NaN    NaN 1990-03-01  \n"
     ]
    }
   ],
   "source": [
    "import pandas as pd\n",
    "excel_file = r'E:\\E\\MTech in AI & ML - IIT Jammu\\2nd sem\\Project Machine Learning\\data_excel.xlsx'\n",
    "\n",
    "# Read the Excel file into a pandas DataFrame\n",
    "df = pd.read_excel(excel_file)\n",
    "\n",
    "# Display the shape of the DataFrame\n",
    "print(\"Shape of DataFrame:\", df.shape)\n",
    "\n",
    "# Display the features or characteristics of the DataFrame\n",
    "print(\"\\nFeatures or Characteristics of DataFrame:\")\n",
    "print(df.info())\n",
    "\n",
    "# Display the first 5 entries of the DataFrame\n",
    "print(\"\\nFirst 5 entries of DataFrame:\")\n",
    "print(df.head())"
   ]
  },
  {
   "cell_type": "code",
   "execution_count": 1,
   "id": "ae9d076d",
   "metadata": {},
   "outputs": [
    {
     "data": {
      "text/html": [
       "<style>pre { white-space: pre !important; }</style>"
      ],
      "text/plain": [
       "<IPython.core.display.HTML object>"
      ]
     },
     "metadata": {},
     "output_type": "display_data"
    }
   ],
   "source": [
    "from IPython.display import display, HTML\n",
    "display(HTML(\"<style>pre { white-space: pre !important; }</style>\"))"
   ]
  },
  {
   "cell_type": "code",
   "execution_count": 2,
   "id": "319beff7",
   "metadata": {
    "scrolled": false
   },
   "outputs": [
    {
     "name": "stdout",
     "output_type": "stream",
     "text": [
      "Shape of DataFrame: (435742, 13)\n",
      "\n",
      "Features or Characteristics of DataFrame:\n",
      "<class 'pandas.core.frame.DataFrame'>\n",
      "RangeIndex: 435742 entries, 0 to 435741\n",
      "Data columns (total 13 columns):\n",
      " #   Column                       Non-Null Count   Dtype         \n",
      "---  ------                       --------------   -----         \n",
      " 0   stn_code                     291665 non-null  object        \n",
      " 1   sampling_date                435739 non-null  object        \n",
      " 2   state                        435742 non-null  object        \n",
      " 3   location                     435739 non-null  object        \n",
      " 4   agency                       286261 non-null  object        \n",
      " 5   type                         430349 non-null  object        \n",
      " 6   so2                          401096 non-null  float64       \n",
      " 7   no2                          419509 non-null  float64       \n",
      " 8   rspm                         395520 non-null  float64       \n",
      " 9   spm                          198355 non-null  float64       \n",
      " 10  location_monitoring_station  408251 non-null  object        \n",
      " 11  pm2_5                        9314 non-null    float64       \n",
      " 12  date                         435735 non-null  datetime64[ns]\n",
      "dtypes: datetime64[ns](1), float64(5), object(7)\n",
      "memory usage: 43.2+ MB\n",
      "None\n",
      "\n",
      "First 5 entries of DataFrame with selected columns:\n",
      "  stn_code       sampling_date           state   location agency                                type  so2   no2  rspm  spm location_monitoring_station  pm2_5       date\n",
      "0      150  February - M021990  Andhra Pradesh  Hyderabad    NaN  Residential, Rural and other Areas  4.8  17.4   NaN  NaN                         NaN    NaN 1990-02-01\n",
      "1      151  February - M021990  Andhra Pradesh  Hyderabad    NaN                     Industrial Area  3.1   7.0   NaN  NaN                         NaN    NaN 1990-02-01\n",
      "2      152  February - M021990  Andhra Pradesh  Hyderabad    NaN  Residential, Rural and other Areas  6.2  28.5   NaN  NaN                         NaN    NaN 1990-02-01\n",
      "3      150     March - M031990  Andhra Pradesh  Hyderabad    NaN  Residential, Rural and other Areas  6.3  14.7   NaN  NaN                         NaN    NaN 1990-03-01\n",
      "4      151     March - M031990  Andhra Pradesh  Hyderabad    NaN                     Industrial Area  4.7   7.5   NaN  NaN                         NaN    NaN 1990-03-01\n"
     ]
    }
   ],
   "source": [
    "import pandas as pd\n",
    "\n",
    "# Set display options to show all columns\n",
    "pd.set_option('display.max_columns', None)\n",
    "\n",
    "excel_file = r'E:\\E\\MTech in AI & ML - IIT Jammu\\2nd sem\\Project Machine Learning\\data_excel.xlsx'\n",
    "\n",
    "# Read the Excel file into a pandas DataFrame\n",
    "df = pd.read_excel(excel_file)\n",
    "\n",
    "# Display the shape of the DataFrame\n",
    "print(\"Shape of DataFrame:\", df.shape)\n",
    "\n",
    "# Display the features or characteristics of the DataFrame\n",
    "print(\"\\nFeatures or Characteristics of DataFrame:\")\n",
    "print(df.info())\n",
    "\n",
    "# Display the first 5 entries of the DataFrame with selected columns\n",
    "print(\"\\nFirst 5 entries of DataFrame with selected columns:\")\n",
    "print(df.iloc[:, :25].head().to_string())  # Select the first 25 columns"
   ]
  },
  {
   "cell_type": "code",
   "execution_count": null,
   "id": "90141cd0",
   "metadata": {},
   "outputs": [],
   "source": []
  },
  {
   "cell_type": "code",
   "execution_count": null,
   "id": "83804a8c",
   "metadata": {},
   "outputs": [],
   "source": []
  },
  {
   "cell_type": "code",
   "execution_count": null,
   "id": "a63aea41",
   "metadata": {},
   "outputs": [],
   "source": []
  },
  {
   "cell_type": "code",
   "execution_count": null,
   "id": "2a181bb2",
   "metadata": {},
   "outputs": [],
   "source": []
  },
  {
   "cell_type": "code",
   "execution_count": null,
   "id": "24a38433",
   "metadata": {},
   "outputs": [],
   "source": []
  }
 ],
 "metadata": {
  "kernelspec": {
   "display_name": "Python 3 (ipykernel)",
   "language": "python",
   "name": "python3"
  },
  "language_info": {
   "codemirror_mode": {
    "name": "ipython",
    "version": 3
   },
   "file_extension": ".py",
   "mimetype": "text/x-python",
   "name": "python",
   "nbconvert_exporter": "python",
   "pygments_lexer": "ipython3",
   "version": "3.11.7"
  }
 },
 "nbformat": 4,
 "nbformat_minor": 5
}
