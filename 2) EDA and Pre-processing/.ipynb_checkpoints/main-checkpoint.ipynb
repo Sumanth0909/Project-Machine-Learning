{
 "cells": [
  {
   "cell_type": "code",
   "execution_count": 4,
   "metadata": {
    "id": "c777318908174e3f95104944dacbbfcf",
    "scrolled": false
   },
   "outputs": [
    {
     "ename": "SyntaxError",
     "evalue": "invalid syntax (550880507.py, line 12)",
     "output_type": "error",
     "traceback": [
      "\u001b[1;36m  Cell \u001b[1;32mIn[4], line 12\u001b[1;36m\u001b[0m\n\u001b[1;33m    import E:\\E\\MTech in AI & ML - IIT Jammu\\2nd sem\\Project Machine Learning\\2) EDA and Pre-processing\\MissingValues\u001b[0m\n\u001b[1;37m            ^\u001b[0m\n\u001b[1;31mSyntaxError\u001b[0m\u001b[1;31m:\u001b[0m invalid syntax\n"
     ]
    }
   ],
   "source": [
    "# %run AutoDataPrep.py\n",
    "# %run Imbalanced.py\n",
    "\n",
    "# if code is running on IBM Cloud Pak, comment out\n",
    "%run AutoDataPrep.ipynb\n",
    "%run Imbalanced.ipynb\n",
    "\n",
    "import pandas as pd\n",
    "from os.path import exists as file_exists\n",
    "\n",
    "\n",
    "\n",
    "\n",
    "\n",
    "file_path = input(\"Enter the file path to be processed: \")\n",
    "while not file_exists(file_path):\n",
    "    file_path = input(\"Couldn't find the file. Enter the file path to be processed: \")\n",
    "\n",
    "# if code is running on IBM Cloud Pak, uncomment\n",
    "# from ibm_watson_studio_lib import access_project_or_space\n",
    "# wslib = access_project_or_space()\n",
    "# df = pd.read_csv(wslib.mount.get_data_path(file_path))\n",
    "# df.head()\n",
    "\n",
    "# if code is running on IBM Cloud Pak, comment and run\n",
    "df = pd.read_csv(file_path)\n",
    "\n",
    "imbalanced_dict, info_message = Imbalanced.handle(df)\n",
    "cols_to_remove = []\n",
    "print('\\n' + info_message)\n",
    "for key in imbalanced_dict.keys():\n",
    "    txt = 'Enter 1 to remove ' + key + ', 0 to keep it for further analysis: '\n",
    "    rem = int(input(txt))\n",
    "    if rem == 1:\n",
    "        cols_to_remove.append(key)\n",
    "        \n",
    "pipeline = AutoDataPrep(df, cols_to_remove)\n",
    "pipeline.output.head()\n",
    "\n"
   ]
  },
  {
   "cell_type": "code",
   "execution_count": null,
   "metadata": {},
   "outputs": [],
   "source": []
  }
 ],
 "metadata": {
  "kernelspec": {
   "display_name": "Python 3 (ipykernel)",
   "language": "python",
   "name": "python3"
  },
  "language_info": {
   "codemirror_mode": {
    "name": "ipython",
    "version": 3
   },
   "file_extension": ".py",
   "mimetype": "text/x-python",
   "name": "python",
   "nbconvert_exporter": "python",
   "pygments_lexer": "ipython3",
   "version": "3.11.7"
  }
 },
 "nbformat": 4,
 "nbformat_minor": 1
}
