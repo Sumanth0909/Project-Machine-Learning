{
 "cells": [
  {
   "cell_type": "code",
   "execution_count": 1,
   "id": "413b9e5b",
   "metadata": {},
   "outputs": [],
   "source": [
    "import numpy as np\n",
    "import pandas as pd\n",
    "import matplotlib.pyplot as plt"
   ]
  },
  {
   "cell_type": "code",
   "execution_count": null,
   "id": "7c8356e7",
   "metadata": {},
   "outputs": [],
   "source": [
    "data=pd.read_excel('AQI.xlsx')"
   ]
  },
  {
   "cell_type": "code",
   "execution_count": null,
   "id": "4d7fd521",
   "metadata": {},
   "outputs": [],
   "source": [
    "null_sum = data.isnull().sum()\n",
    "print(null_sum)"
   ]
  },
  {
   "cell_type": "code",
   "execution_count": null,
   "id": "b9a6ac7d",
   "metadata": {},
   "outputs": [],
   "source": [
    "nan_sum = data.isna().sum()\n",
    "print(nan_sum)"
   ]
  },
  {
   "cell_type": "code",
   "execution_count": null,
   "id": "900c6194",
   "metadata": {},
   "outputs": [],
   "source": [
    "data.head()"
   ]
  },
  {
   "cell_type": "code",
   "execution_count": null,
   "id": "9598da60",
   "metadata": {},
   "outputs": [],
   "source": [
    "size=data.shape\n",
    "print(f'instances:{size[0]}')\n",
    "print(f'attributes:{size[1]}')"
   ]
  },
  {
   "cell_type": "code",
   "execution_count": null,
   "id": "74c57203",
   "metadata": {},
   "outputs": [],
   "source": [
    "column=data.columns.tolist()\n",
    "print(f'Name of attributes:{column}')"
   ]
  },
  {
   "cell_type": "code",
   "execution_count": null,
   "id": "58e33698",
   "metadata": {},
   "outputs": [],
   "source": [
    "df = pd.DataFrame(data)\n",
    "\n",
    "# Define pollutant names\n",
    "pollutants = [\"PM2.5\", \"SPM\", \"SO2\", \"NOx\", \"RSPM\"]\n",
    "\n",
    "# Calculate 24-hour rolling averages for each pollutant\n",
    "df[\"SPM_24hr_avg\"] = df.groupby(\"location\")[\"spm\"].rolling(window=24, min_periods=16).mean().values\n",
    "df[\"PM2.5_24hr_avg\"] = df.groupby(\"location\")[\"pm2_5\"].rolling(window=24, min_periods=16).mean().values\n",
    "df[\"SO2_24hr_avg\"] = df.groupby(\"location\")[\"so2\"].rolling(window=24, min_periods=16).mean().values\n",
    "df[\"NO2_24hr_avg\"] = df.groupby(\"location\")[\"no2\"].rolling(window=24, min_periods=16).mean().values\n",
    "df[\"RSPM_24hr_avg\"] = df.groupby(\"location\")[\"rspm\"].rolling(window=24, min_periods=16).mean().values\n",
    "\n",
    "# Extract max and min values for each pollutant\n",
    "max_values = {\n",
    "    \"PM2.5\": df[\"PM2.5_24hr_avg\"].max(),\n",
    "    \"SPM\": df[\"SPM_24hr_avg\"].max(),\n",
    "    \"SO2\": df[\"SO2_24hr_avg\"].max(),\n",
    "    \"NOx\": df[\"NO2_24hr_avg\"].max(),\n",
    "    \"RSPM\": df[\"RSPM_24hr_avg\"].max()\n",
    "}\n",
    "\n",
    "min_values = {\n",
    "    \"PM2.5\": df[\"PM2.5_24hr_avg\"].min(),\n",
    "    \"SPM\": df[\"SPM_24hr_avg\"].min(),\n",
    "    \"SO2\": df[\"SO2_24hr_avg\"].min(),\n",
    "    \"NOx\": df[\"NO2_24hr_avg\"].min(),\n",
    "    \"RSPM\": df[\"RSPM_24hr_avg\"].min()\n",
    "}\n",
    "\n",
    "# Define the breakpoints\n",
    "breakpoints = {\n",
    "    \"PM2.5\": [\n",
    "        (0, 30, 0, 50),\n",
    "        (31, 60, 51, 100),\n",
    "        (61, 90, 101, 200),\n",
    "        (91, 120, 201, 300),\n",
    "        (121, 250, 301, 400),\n",
    "        (251, 500, 401, 500)\n",
    "    ],\n",
    "    \"SPM\": [\n",
    "        (0, 50, 0, 50),\n",
    "        (51, 100, 51, 100),\n",
    "        (101, 250, 101, 200),\n",
    "        (251, 350, 201, 300),\n",
    "        (351, 430, 301, 400),\n",
    "        (431, 500, 401, 500)\n",
    "    ],\n",
    "    \"SO2\": [\n",
    "        (0, 40, 0, 50),\n",
    "        (41, 80, 51, 100),\n",
    "        (81, 380, 101, 200),\n",
    "        (381, 800, 201, 300),\n",
    "        (801, 1600, 301, 400),\n",
    "        (1601, 2000, 401, 500)\n",
    "    ],\n",
    "    \"NOx\": [\n",
    "        (0, 40, 0, 50),\n",
    "        (41, 80, 51, 100),\n",
    "        (81, 180, 101, 200),\n",
    "        (181, 280, 201, 300),\n",
    "        (281, 400, 301, 400),\n",
    "        (401, 500, 401, 500)\n",
    "    ],\n",
    "    \"RSPM\": [\n",
    "        (0, 1, 0, 50),\n",
    "        (1.1, 2, 51, 100),\n",
    "        (2.1, 10, 101, 200),\n",
    "        (10.1, 17, 201, 300),\n",
    "        (17.1, 34, 301, 400),\n",
    "        (34.1, 50, 401, 500)\n",
    "    ]\n",
    "}\n",
    "\n",
    "#  function to calculate subindex\n",
    "def calculate_subindex(concentration, pollutant):\n",
    "    for (C_low, C_high, I_low, I_high) in breakpoints[pollutant]:\n",
    "        if C_low <= concentration <= C_high:\n",
    "            I = ((I_high - I_low) / (C_high - C_low)) * (concentration - C_low) + I_low\n",
    "            return I\n",
    "    return np.nan\n",
    "\n",
    "# Calculate subindices\n",
    "df[\"PM2.5_SubIndex\"] = df[\"PM2.5_24hr_avg\"].apply(lambda x: calculate_subindex(x, \"PM2.5\"))\n",
    "df[\"SPM_SubIndex\"] = df[\"SPM_24hr_avg\"].apply(lambda x: calculate_subindex(x, \"SPM\"))\n",
    "df[\"SO2_SubIndex\"] = df[\"SO2_24hr_avg\"].apply(lambda x: calculate_subindex(x, \"SO2\"))\n",
    "df[\"NOx_SubIndex\"] = df[\"NO2_24hr_avg\"].apply(lambda x: calculate_subindex(x, \"NOx\"))\n",
    "df[\"RSPM_SubIndex\"] = df[\"RSPM_24hr_avg\"].apply(lambda x: calculate_subindex(x, \"RSPM\"))\n",
    "\n",
    "# function to get AQI bucket\n",
    "def get_AQI_bucket(x):\n",
    "    if x <= 50:\n",
    "        return \"Good\"\n",
    "    elif x <= 100:\n",
    "        return \"Satisfactory\"\n",
    "    elif x <= 200:\n",
    "        return \"Moderate\"\n",
    "    elif x <= 300:\n",
    "        return \"Poor\"\n",
    "    elif x <= 400:\n",
    "        return \"Very Poor\"\n",
    "    elif x>400:\n",
    "        return \"Severe\"\n",
    "    else:\n",
    "      return'None'\n",
    "\n",
    "# Calculate number of valid sub-indices\n",
    "df[\"Checks\"] = (df[\"PM2.5_SubIndex\"] > 0).astype(int) + \\\n",
    "               (df[\"SPM_SubIndex\"] > 0).astype(int) + \\\n",
    "               (df[\"SO2_SubIndex\"] > 0).astype(int) + \\\n",
    "               (df[\"NOx_SubIndex\"] > 0).astype(int) + \\\n",
    "               (df[\"RSPM_SubIndex\"] > 0).astype(int)\n",
    "\n",
    "# Calculate AQI\n",
    "df[\"AQI_calculated\"] = df[[\"PM2.5_SubIndex\", \"SPM_SubIndex\", \"SO2_SubIndex\", \"NOx_SubIndex\", \"RSPM_SubIndex\"]].max(axis=1)\n",
    "\n",
    "# Check for minimum subindices requirements\n",
    "df.loc[df[\"Checks\"] < 3, \"AQI_calculated\"] = np.NaN\n",
    "\n",
    "# Apply AQI bucket\n",
    "df[\"AQI_bucket_calculated\"] = df[\"AQI_calculated\"].apply(get_AQI_bucket)\n",
    "\n",
    "# Display the results\n",
    "df[~df.AQI_calculated.isna()].head(13)\n",
    "\n",
    "\n",
    "# Save the results to an Excel file\n",
    "df.to_excel(\"AQIdata.xlsx\", index=False)\n"
   ]
  },
  {
   "cell_type": "code",
   "execution_count": null,
   "id": "8192e3e9",
   "metadata": {},
   "outputs": [],
   "source": [
    "null_sum = df.isnull().sum()\n",
    "print(null_sum)"
   ]
  }
 ],
 "metadata": {
  "kernelspec": {
   "display_name": "Python 3 (ipykernel)",
   "language": "python",
   "name": "python3"
  },
  "language_info": {
   "codemirror_mode": {
    "name": "ipython",
    "version": 3
   },
   "file_extension": ".py",
   "mimetype": "text/x-python",
   "name": "python",
   "nbconvert_exporter": "python",
   "pygments_lexer": "ipython3",
   "version": "3.11.7"
  }
 },
 "nbformat": 4,
 "nbformat_minor": 5
}
